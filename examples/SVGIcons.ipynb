{
 "cells": [
  {
   "cell_type": "code",
   "execution_count": null,
   "metadata": {},
   "outputs": [],
   "source": [
    "from ipyleaflet import Map, Marker, SVGIcon, AwesomeIcon, Icon"
   ]
  },
  {
   "cell_type": "code",
   "execution_count": null,
   "metadata": {},
   "outputs": [],
   "source": [
    "m = Map(center=(19.1663, 72.8526), zoom=13)"
   ]
  },
  {
   "cell_type": "code",
   "execution_count": null,
   "metadata": {},
   "outputs": [],
   "source": [
    "icon = SVGIcon(color=\"rgb(255,69,0)\", \n",
    "               icon_size= [95, 50],\n",
    "               fill_color=\"rgb(148,0,211)\",\n",
    "               fill_opacity= 0.8,\n",
    "               font_color= 'rgb(0, 0, 0)',\n",
    "               circle_text= 'sachin',\n",
    "               circle_color= 'rgb(127,255,0)',\n",
    "#                icon_url = \"https://icon2.cleanpng.com/20180528/br/kisspng-map-drawing-pin-clip-art-map-marker-5b0bc686887af8.896855781527498374559.jpg\"\n",
    "              )\n",
    "# icon = AwesomeIcon(\n",
    "#         name='bus',\n",
    "#         marker_color='red' \n",
    "#     )\n",
    "# icon = Icon(icon_size = (20,20), icon_url= \"https://icon2.cleanpng.com/20180528/br/kisspng-map-drawing-pin-clip-art-map-marker-5b0bc686887af8.896855781527498374559.jpg\")"
   ]
  },
  {
   "cell_type": "code",
   "execution_count": null,
   "metadata": {},
   "outputs": [],
   "source": [
    "marker = Marker(icon=icon, location=[19.1663, 72.8526])"
   ]
  },
  {
   "cell_type": "code",
   "execution_count": null,
   "metadata": {},
   "outputs": [],
   "source": [
    "m += marker\n",
    "m"
   ]
  },
  {
   "cell_type": "code",
   "execution_count": 2,
   "metadata": {},
   "outputs": [
    {
     "data": {
      "application/vnd.jupyter.widget-view+json": {
       "model_id": "e5a7b5e4a261487f8456fda8898d34c3",
       "version_major": 2,
       "version_minor": 0
      },
      "text/plain": [
       "Map(center=[42.5, -41], controls=(ZoomControl(options=['position', 'zoom_in_text', 'zoom_in_title', 'zoom_out_…"
      ]
     },
     "metadata": {},
     "output_type": "display_data"
    }
   ],
   "source": [
    "from ipyleaflet import Map, Polyline, LayersControl, LayerGroup, Marker, Rectangle\n",
    "\n",
    "#Creating Map\n",
    "m = Map(center = (42.5, -41), zoom =2)\n",
    "\n",
    "#Creating 3 Polyline Layers\n",
    "line = Polyline(\n",
    "locations=[[45, -122], [37.77, -122],[34, -118]],\n",
    "color=\"green\" ,\n",
    "fill=False\n",
    ")\n",
    "\n",
    "line2 = Polyline(\n",
    "locations=[[46.51, -121.68], [38.77, -121.43], [35.04, -117.22]],\n",
    "color=\"red\" ,\n",
    "fill=False\n",
    ")\n",
    "\n",
    "line3 = Polyline(\n",
    "locations=[\n",
    "[47.51, -120.68], [39.77, -120.43],[35.04, -116.22]],\n",
    "color=\"blue\" ,\n",
    "fill=False\n",
    ")\n",
    "\n",
    "# rectagle = Rectangle(locations=[\n",
    "# [47.51, -120.68], [39.77, -120.43],[35.04, -116.22]])\n",
    "#Creating groups\n",
    "# group = LayerGroup(layers=(line,line2))\n",
    "# m.add_layer(group)\n",
    "\n",
    "# group2 = LayerGroup(layers=(line3,))\n",
    "# m.add_layer(group2)\n",
    "\n",
    "marker1 = Marker(name='marker1', location=(48, -2))\n",
    "marker2 = Marker(name='marker2', location=(50, 0))\n",
    "marker3 = Marker(name='marker3', location=(52, 2))\n",
    "m.add_layer(marker1)\n",
    "m.add_layer(marker2)\n",
    "m.add_layer(marker3)\n",
    "m.add_layer(line)\n",
    "m.add_layer(line2)\n",
    "m.add_layer(line3)\n",
    "# m.add_layer(rectagle)\n",
    "\n",
    "#Enabling the LayersControl widget\n",
    "control = LayersControl(position='topright')\n",
    "m.add_control(control)\n",
    "\n",
    "#Mapping\n",
    "m"
   ]
  },
  {
   "cell_type": "code",
   "execution_count": null,
   "metadata": {},
   "outputs": [],
   "source": [
    "from ipyleaflet import Map, Marker, LayersControl\n",
    "\n",
    "m = Map(center=(50, 0), zoom=5)\n",
    "\n",
    "marker1 = Marker(name='marker1', location=(48, -2))\n",
    "marker2 = Marker(name='marker2', location=(50, 0))\n",
    "marker3 = Marker(name='marker3', location=(52, 2))\n",
    "m.add_layer(marker1)\n",
    "m.add_layer(marker2)\n",
    "m.add_layer(marker3)\n",
    "\n",
    "control = LayersControl(position='topright')\n",
    "m.add_control(control)\n",
    "\n",
    "m"
   ]
  },
  {
   "cell_type": "code",
   "execution_count": null,
   "metadata": {},
   "outputs": [],
   "source": []
  }
 ],
 "metadata": {
  "kernelspec": {
   "display_name": "Python 3",
   "language": "python",
   "name": "python3"
  },
  "language_info": {
   "codemirror_mode": {
    "name": "ipython",
    "version": 3
   },
   "file_extension": ".py",
   "mimetype": "text/x-python",
   "name": "python",
   "nbconvert_exporter": "python",
   "pygments_lexer": "ipython3",
   "version": "3.7.7"
  }
 },
 "nbformat": 4,
 "nbformat_minor": 4
}
