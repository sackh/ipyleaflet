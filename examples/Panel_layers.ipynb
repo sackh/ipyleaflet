{
 "cells": [
  {
   "cell_type": "code",
   "execution_count": 1,
   "metadata": {},
   "outputs": [],
   "source": [
    "from ipyleaflet import Map, Marker, LayerGroup\n",
    "import json"
   ]
  },
  {
   "cell_type": "code",
   "execution_count": 2,
   "metadata": {},
   "outputs": [],
   "source": [
    "m = Map(center=(38.91342738235981, -77.03912909142674), zoom=13)\n"
   ]
  },
  {
   "cell_type": "code",
   "execution_count": 3,
   "metadata": {},
   "outputs": [],
   "source": [
    "from ipyleaflet import PanelControl, TileLayer"
   ]
  },
  {
   "cell_type": "code",
   "execution_count": 4,
   "metadata": {},
   "outputs": [],
   "source": [
    "import geopandas\n",
    "\n",
    "\n",
    "cities = geopandas.read_file(\"zip://./geopandas_cities.zip\")\n",
    "layer = LayerGroup(layers=[Marker(location=geolocation.coords[0][::-1]) for geolocation in cities.geometry])"
   ]
  },
  {
   "cell_type": "code",
   "execution_count": 5,
   "metadata": {},
   "outputs": [
    {
     "data": {
      "application/vnd.jupyter.widget-view+json": {
       "model_id": "664f7d9811854a64adb20aba175a15d7",
       "version_major": 2,
       "version_minor": 0
      },
      "text/plain": [
       "Map(center=[38.91342738235981, -77.03912909142674], controls=(ZoomControl(options=['position', 'zoom_in_text',…"
      ]
     },
     "metadata": {},
     "output_type": "display_data"
    }
   ],
   "source": [
    "base_layers = [{'name': \"OpenCycleMap\", \n",
    "                'layer': TileLayer(url='http://{s}.tile.opencyclemap.org/cycle/{z}/{x}/{y}.png')}]\n",
    "\n",
    "overlays = [{'name': \"markers\", 'icon': '<i class=\"icon icon-drinking_water\"></i>', 'layer': layer}]\n",
    "\n",
    "p_control = PanelControl(base_layers=base_layers, overlays=overlays)\n",
    "\n",
    "m.add_control(p_control)\n",
    "m"
   ]
  },
  {
   "cell_type": "code",
   "execution_count": null,
   "metadata": {},
   "outputs": [],
   "source": []
  }
 ],
 "metadata": {
  "kernelspec": {
   "display_name": "Python 3",
   "language": "python",
   "name": "python3"
  },
  "language_info": {
   "codemirror_mode": {
    "name": "ipython",
    "version": 3
   },
   "file_extension": ".py",
   "mimetype": "text/x-python",
   "name": "python",
   "nbconvert_exporter": "python",
   "pygments_lexer": "ipython3",
   "version": "3.7.6"
  }
 },
 "nbformat": 4,
 "nbformat_minor": 4
}
